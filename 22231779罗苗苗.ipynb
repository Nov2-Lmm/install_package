{
 "cells": [
  {
   "cell_type": "code",
   "execution_count": 1,
   "metadata": {},
   "outputs": [
    {
     "name": "stdout",
     "output_type": "stream",
     "text": [
      "分组后的音乐行业收入信息表为： <pandas.core.groupby.generic.DataFrameGroupBy object at 0x0000014735248E20>\n"
     ]
    }
   ],
   "source": [
    "import pandas as pd\n",
    "musicdata = pd.read_csv(\"d:/2231779/musicdata.csv\")\n",
    "musicdataGroup = musicdata[[\"format\",'metric','value_actual']].groupby(by='format')\n",
    "print('分组后的音乐行业收入信息表为：',musicdataGroup)"
   ]
  },
  {
   "cell_type": "code",
   "execution_count": 2,
   "metadata": {},
   "outputs": [
    {
     "name": "stdout",
     "output_type": "stream",
     "text": [
      "对音乐行业收入信息表进行分组后前5组的均值为：\n",
      "                  value_actual\n",
      "format                       \n",
      "8 - Track          511.177231\n",
      "CD                4733.432621\n",
      "CD Single           45.346843\n",
      "Cassette          1403.643775\n",
      "Cassette Single    126.793441\n"
     ]
    }
   ],
   "source": [
    "print('对音乐行业收入信息表进行分组后前5组的均值为：\\n',musicdataGroup.mean().head())"
   ]
  },
  {
   "cell_type": "code",
   "execution_count": 3,
   "metadata": {},
   "outputs": [
    {
     "name": "stdout",
     "output_type": "stream",
     "text": [
      "对音乐行业收入信息表进行分组后前5组的标准差为：\n",
      "                  value_actual\n",
      "format                       \n",
      "8 - Track          984.411165\n",
      "CD                5645.536764\n",
      "CD Single           85.966719\n",
      "Cassette          1919.217701\n",
      "Cassette Single    158.928097\n"
     ]
    }
   ],
   "source": [
    "print('对音乐行业收入信息表进行分组后前5组的标准差为：\\n',musicdataGroup.std().head())"
   ]
  },
  {
   "cell_type": "code",
   "execution_count": 4,
   "metadata": {},
   "outputs": [
    {
     "name": "stdout",
     "output_type": "stream",
     "text": [
      "对音乐行业收入信息表进行分组后前5组每组的大小为：\n",
      " format\n",
      "8 - Track          141\n",
      "CD                 141\n",
      "CD Single          141\n",
      "Cassette           141\n",
      "Cassette Single    141\n",
      "dtype: int64\n"
     ]
    }
   ],
   "source": [
    "print('对音乐行业收入信息表进行分组后前5组每组的大小为：\\n',musicdataGroup.size().head())"
   ]
  },
  {
   "cell_type": "code",
   "execution_count": 5,
   "metadata": {},
   "outputs": [
    {
     "name": "stdout",
     "output_type": "stream",
     "text": [
      "音乐销售价格的总和与均值为：\n",
      "       number_of_records  value_actual\n",
      "sum              3008.0  1.055524e+06\n",
      "mean                1.0  7.812912e+02\n"
     ]
    }
   ],
   "source": [
    "import numpy as np\n",
    "print('音乐销售价格的总和与均值为：\\n',musicdata[['number_of_records','value_actual']].agg([np.sum,np.mean]))"
   ]
  },
  {
   "cell_type": "code",
   "execution_count": 6,
   "metadata": {},
   "outputs": [
    {
     "name": "stdout",
     "output_type": "stream",
     "text": [
      "音乐行业收入信息表中各类型音乐产品销售数量的总和与售价的均值为：\n",
      " number_of_records    3008.000000\n",
      "value_actual          781.291237\n",
      "dtype: float64\n"
     ]
    }
   ],
   "source": [
    "print('音乐行业收入信息表中各类型音乐产品销售数量的总和与售价的均值为：\\n',\n",
    "      musicdata.agg({'number_of_records':np.sum,'value_actual':np.mean}))"
   ]
  },
  {
   "cell_type": "code",
   "execution_count": 7,
   "metadata": {},
   "outputs": [
    {
     "name": "stdout",
     "output_type": "stream",
     "text": [
      "音乐行业收入信息表中各类型音乐产品销售数量的总和与售价的均值及总和为：\n",
      "       number_of_records  value_actual\n",
      "mean                NaN  7.812912e+02\n",
      "sum              3008.0  1.055524e+06\n"
     ]
    }
   ],
   "source": [
    "print('音乐行业收入信息表中各类型音乐产品销售数量的总和与售价的均值及总和为：\\n',\n",
    "      musicdata.agg({'number_of_records':np.sum,'value_actual':[np.mean,np.sum]}))"
   ]
  },
  {
   "cell_type": "code",
   "execution_count": 8,
   "metadata": {},
   "outputs": [
    {
     "name": "stdout",
     "output_type": "stream",
     "text": [
      "音乐行业收入信息表的实际销售价格的两倍总和为：\n",
      " value_actual    2.111049e+06\n",
      "dtype: float64\n"
     ]
    }
   ],
   "source": [
    "def DoubleSum(data):\n",
    "    s = data.sum() * 2\n",
    "    return s\n",
    "print('音乐行业收入信息表的实际销售价格的两倍总和为：\\n',musicdata.agg({'value_actual':DoubleSum},axis=0))"
   ]
  },
  {
   "cell_type": "code",
   "execution_count": 9,
   "metadata": {},
   "outputs": [
    {
     "name": "stdout",
     "output_type": "stream",
     "text": [
      "音乐行业收入信息表的销售数量的两倍总和为：\n",
      "    number_of_records\n",
      "0                  2\n",
      "1                  2\n",
      "2                  2\n",
      "3                  2\n",
      "4                  2\n"
     ]
    }
   ],
   "source": [
    "def DoubleSum1(data):\n",
    "    s = np.sum(data) * 2\n",
    "    return s\n",
    "print('音乐行业收入信息表的销售数量的两倍总和为：\\n',musicdata.agg({'number_of_records':DoubleSum1},axis=0).head())"
   ]
  },
  {
   "cell_type": "code",
   "execution_count": 10,
   "metadata": {},
   "outputs": [
    {
     "name": "stdout",
     "output_type": "stream",
     "text": [
      "音乐行业收入信息表销售数量与实际价格的总和的两倍分别为：\n",
      " number_of_records    6.016000e+03\n",
      "value_actual         2.111049e+06\n",
      "dtype: float64\n"
     ]
    }
   ],
   "source": [
    "print('音乐行业收入信息表销售数量与实际价格的总和的两倍分别为：\\n',\n",
    "      musicdata[['number_of_records','value_actual']].agg(DoubleSum1))"
   ]
  },
  {
   "cell_type": "code",
   "execution_count": 11,
   "metadata": {},
   "outputs": [
    {
     "name": "stdout",
     "output_type": "stream",
     "text": [
      "对音乐行业收入信息表进行分组后，前3组每组的均值为：\n",
      "            value_actual\n",
      "format                 \n",
      "8 - Track    511.177231\n",
      "CD          4733.432621\n",
      "CD Single     45.346843\n"
     ]
    }
   ],
   "source": [
    "print('对音乐行业收入信息表进行分组后，前3组每组的均值为：\\n',musicdataGroup.agg(np.mean).head(3))"
   ]
  },
  {
   "cell_type": "code",
   "execution_count": 12,
   "metadata": {},
   "outputs": [
    {
     "name": "stdout",
     "output_type": "stream",
     "text": [
      "对音乐行业收入信息表进行分组后，前3组每组的标准差为：\n",
      "            value_actual\n",
      "format                 \n",
      "8 - Track    984.411165\n",
      "CD          5645.536764\n",
      "CD Single     85.966719\n"
     ]
    }
   ],
   "source": [
    "print('对音乐行业收入信息表进行分组后，前3组每组的标准差为：\\n',musicdataGroup.agg(np.std).head(3))"
   ]
  },
  {
   "cell_type": "code",
   "execution_count": 14,
   "metadata": {},
   "outputs": [
    {
     "name": "stdout",
     "output_type": "stream",
     "text": [
      "对音乐行业收入信息表进行分组后，前3组每种销售形式的记录数和销售价格均值为：\n",
      "                value_actual             \n",
      "          number_of_records value_actual\n",
      "format                                  \n",
      "8 - Track                59   511.177231\n",
      "CD                      111  4733.432621\n",
      "CD Single                96    45.346843\n"
     ]
    }
   ],
   "source": [
    "print('对音乐行业收入信息表进行分组后，前3组每种销售形式的记录数和销售价格均值为：\\n',\n",
    "      musicdataGroup.agg([('number_of_records','count'),('value_actual','mean')]).head(3))"
   ]
  },
  {
   "cell_type": "code",
   "execution_count": 15,
   "metadata": {},
   "outputs": [
    {
     "name": "stdout",
     "output_type": "stream",
     "text": [
      "音乐行业收入信息表的销售数量的销售价格的均值为：\n",
      " number_of_records      1.000000\n",
      "value_actual         781.291237\n",
      "dtype: float64\n"
     ]
    }
   ],
   "source": [
    "print('音乐行业收入信息表的销售数量的销售价格的均值为：\\n',musicdata[['number_of_records','value_actual']].apply(np.mean))"
   ]
  },
  {
   "cell_type": "code",
   "execution_count": 16,
   "metadata": {},
   "outputs": [
    {
     "name": "stdout",
     "output_type": "stream",
     "text": [
      "对音乐行业收入信息表进行分组后，前3组每组的均值为： \n",
      "            value_actual\n",
      "format                 \n",
      "8 - Track    511.177231\n",
      "CD          4733.432621\n",
      "CD Single     45.346843\n"
     ]
    }
   ],
   "source": [
    "print('对音乐行业收入信息表进行分组后，前3组每组的均值为：','\\n',musicdataGroup.apply(np.mean).head(3))"
   ]
  },
  {
   "cell_type": "code",
   "execution_count": 17,
   "metadata": {},
   "outputs": [
    {
     "name": "stdout",
     "output_type": "stream",
     "text": [
      "对音乐行业收入信息表进行分组后，前3组每组的标准差为： \n",
      "            value_actual\n",
      "format                 \n",
      "8 - Track    976.033045\n",
      "CD          5620.048883\n",
      "CD Single     85.517803\n"
     ]
    }
   ],
   "source": [
    "print('对音乐行业收入信息表进行分组后，前3组每组的标准差为：','\\n',musicdataGroup.apply(np.std).head(3))"
   ]
  },
  {
   "cell_type": "code",
   "execution_count": 19,
   "metadata": {},
   "outputs": [
    {
     "name": "stdout",
     "output_type": "stream",
     "text": [
      "音乐行业收入信息表中销售数量和销售价格的两倍为：\n",
      "    number_of_records  value_actual\n",
      "0                  2           NaN\n",
      "1                  2           NaN\n",
      "2                  2           NaN\n",
      "3                  2           NaN\n"
     ]
    }
   ],
   "source": [
    "print('音乐行业收入信息表中销售数量和销售价格的两倍为：\\n',\n",
    "      musicdata[['number_of_records','value_actual']].transform(lambda x:x *2).head(4))"
   ]
  },
  {
   "cell_type": "code",
   "execution_count": 20,
   "metadata": {},
   "outputs": [
    {
     "name": "stdout",
     "output_type": "stream",
     "text": [
      "对音乐行业收入信息表进行分组并实现组内离差标准化后，前5行为：\n",
      "    value_actual\n",
      "0      0.240644\n",
      "1      0.240644\n",
      "2      0.240644\n",
      "3      0.240644\n",
      "4      0.240644\n"
     ]
    }
   ],
   "source": [
    "print('对音乐行业收入信息表进行分组并实现组内离差标准化后，前5行为：\\n',\n",
    "      musicdataGroup.transform(lambda x:(x.mean() - x.min()) / (x.max() - x.min())).head())"
   ]
  },
  {
   "cell_type": "code",
   "execution_count": 21,
   "metadata": {},
   "outputs": [
    {
     "name": "stdout",
     "output_type": "stream",
     "text": [
      "以format作为分组键创建的透视表为：\n",
      "                  number_of_records  value_actual\n",
      "format                                          \n",
      "8 - Track                        1    511.177231\n",
      "CD                               1   4733.432621\n",
      "CD Single                        1     45.346843\n",
      "Cassette                         1   1403.643775\n",
      "Cassette Single                  1    126.793441\n"
     ]
    }
   ],
   "source": [
    "import pandas as pd\n",
    "musicdata = pd.read_csv('d:/2231779/musicdata.csv')\n",
    "musicdataPivot = pd.pivot_table(musicdata[[\n",
    "    'format','number_of_records','value_actual']],index='format')\n",
    "print('以format作为分组键创建的透视表为：\\n',musicdataPivot.head())"
   ]
  },
  {
   "cell_type": "code",
   "execution_count": 23,
   "metadata": {},
   "outputs": [
    {
     "name": "stdout",
     "output_type": "stream",
     "text": [
      "以format作为分组键创建的销售数量与销售价格总和透视表为：\n",
      "                  number_of_records   value_actual\n",
      "format                                           \n",
      "8 - Track                      141   30159.456658\n",
      "CD                             141  525411.020880\n",
      "CD Single                      141    4353.296903\n",
      "Cassette                       141  157208.102797\n",
      "Cassette Single                141    7227.226130\n"
     ]
    }
   ],
   "source": [
    "import numpy as np\n",
    "musicdataPivot1 = pd.pivot_table(musicdata[[\n",
    "    'format','number_of_records','value_actual'\n",
    "]],index='format',aggfunc=np.sum)\n",
    "print('以format作为分组键创建的销售数量与销售价格总和透视表为：\\n',\n",
    "     musicdataPivot1.head())"
   ]
  },
  {
   "cell_type": "code",
   "execution_count": 24,
   "metadata": {},
   "outputs": [
    {
     "name": "stdout",
     "output_type": "stream",
     "text": [
      "以format和metric作为分组键创建的销售数量与销售价格总和透视表为：\n",
      "                             number_of_records   value_actual\n",
      "format    metric                                            \n",
      "8 - Track Units                            47     900.300000\n",
      "          Value                            47    5618.700000\n",
      "          Value (Adjusted)                 47   23640.456658\n",
      "CD        Units                            47   14802.624448\n",
      "          Value                            47  205083.959093\n"
     ]
    }
   ],
   "source": [
    "musicdataPivot2 = pd.pivot_table(musicdata[[\n",
    "    'format','metric','number_of_records','value_actual'\n",
    "]],index=['format','metric'],aggfunc=np.sum)\n",
    "print('以format和metric作为分组键创建的销售数量与销售价格总和透视表为：\\n',musicdataPivot2.head())"
   ]
  },
  {
   "cell_type": "code",
   "execution_count": 27,
   "metadata": {},
   "outputs": [
    {
     "name": "stdout",
     "output_type": "stream",
     "text": [
      "以format和metric作为行、列分组键创建的透视表的前5行的前4列为：\n",
      "                 number_of_records                         value_actual\n",
      "metric                      Units Value Value (Adjusted)         Units\n",
      "format                                                                \n",
      "8 - Track                    47.0  47.0             47.0    900.300000\n",
      "CD                           47.0  47.0             47.0  14802.624448\n",
      "CD Single                    47.0  47.0             47.0    357.718686\n",
      "Cassette                     47.0  47.0             47.0   6194.300000\n",
      "Cassette Single              47.0  47.0             47.0    724.200000\n"
     ]
    }
   ],
   "source": [
    "musicdataPivot3 = pd.pivot_table(musicdata[[\n",
    "    'format','metric','number_of_records','value_actual'\n",
    "]],index='format',columns='metric',aggfunc=np.sum)\n",
    "print('以format和metric作为行、列分组键创建的透视表的前5行的前4列为：\\n',musicdataPivot3.iloc[:5,:4])"
   ]
  },
  {
   "cell_type": "code",
   "execution_count": 28,
   "metadata": {},
   "outputs": [
    {
     "name": "stdout",
     "output_type": "stream",
     "text": [
      "以format作为行分组键以value_actual作为值创建的透视表的前5行为：\n",
      "                   value_actual\n",
      "format                        \n",
      "8 - Track         30159.456658\n",
      "CD               525411.020880\n",
      "CD Single          4353.296903\n",
      "Cassette         157208.102797\n",
      "Cassette Single    7227.226130\n"
     ]
    }
   ],
   "source": [
    "musicdataPivot4 = pd.pivot_table(musicdata[[\n",
    "    'format','metric','number_of_records','value_actual'\n",
    "]],index='format',values='value_actual',aggfunc=np.sum)\n",
    "print('以format作为行分组键以value_actual作为值创建的透视表的前5行为：\\n',musicdataPivot4.head())"
   ]
  },
  {
   "cell_type": "code",
   "execution_count": 30,
   "metadata": {},
   "outputs": [
    {
     "name": "stdout",
     "output_type": "stream",
     "text": [
      "将缺省值填0后，以format和metric为行、列分组键创建透视表的前5行的最后4列为：\n",
      "                 number_of_records                         value_actual\n",
      "metric                      Units Value Value (Adjusted)         Units\n",
      "format                                                                \n",
      "8 - Track                      47    47               47    900.300000\n",
      "CD                             47    47               47  14802.624448\n",
      "CD Single                      47    47               47    357.718686\n",
      "Cassette                       47    47               47   6194.300000\n",
      "Cassette Single                47    47               47    724.200000\n"
     ]
    }
   ],
   "source": [
    "musicdataPivot5 = pd.pivot_table(musicdata[[\n",
    "    'format','metric','number_of_records','value_actual'\n",
    "]],index='format',columns='metric',aggfunc=np.sum,fill_value=0)\n",
    "print('将缺省值填0后，以format和metric为行、列分组键创建透视表的前5行的最后4列为：\\n',musicdataPivot5.iloc[:5,:4])"
   ]
  },
  {
   "cell_type": "code",
   "execution_count": 31,
   "metadata": {},
   "outputs": [
    {
     "name": "stdout",
     "output_type": "stream",
     "text": [
      "添加margins参数后，以format和metric为行、列分组键的透视表的前5行的最后4列为：\n",
      "                  value_actual                                               \n",
      "metric                  Units          Value Value (Adjusted)            All\n",
      "format                                                                      \n",
      "8 - Track          900.300000    5618.700000     23640.456658   30159.456658\n",
      "CD               14802.624448  205083.959093    305524.437339  525411.020880\n",
      "CD Single          357.718686    1549.562534      2446.015682    4353.296903\n",
      "Cassette          6194.300000   48701.700000    102312.102797  157208.102797\n",
      "Cassette Single    724.200000    2325.900000      4177.126130    7227.226130\n"
     ]
    }
   ],
   "source": [
    "musicdataPivot6 = pd.pivot_table(musicdata[[\n",
    "    'format','metric','number_of_records','value_actual'\n",
    "]],index='format',columns='metric',aggfunc=np.sum,fill_value=0,margins=True)\n",
    "print('添加margins参数后，以format和metric为行、列分组键的透视表的前5行的最后4列为：\\n',musicdataPivot6.iloc[:5,-4:])"
   ]
  },
  {
   "cell_type": "code",
   "execution_count": 32,
   "metadata": {},
   "outputs": [
    {
     "name": "stdout",
     "output_type": "stream",
     "text": [
      "以format和metric作为分组键、以value_actual为值的透视表的前5行的前4列为： metric                  Units          Value  Value (Adjusted)\n",
      "format                                                        \n",
      "8 - Track          900.300000    5618.700000      23640.456658\n",
      "CD               14802.624448  205083.959093     305524.437339\n",
      "CD Single          357.718686    1549.562534       2446.015682\n",
      "Cassette          6194.300000   48701.700000     102312.102797\n",
      "Cassette Single    724.200000    2325.900000       4177.126130\n"
     ]
    }
   ],
   "source": [
    "musicdataCross = pd.crosstab(index=musicdata['format'],columns=musicdata['metric'],\n",
    "                            values=musicdata['value_actual'],aggfunc = np.sum)\n",
    "print('以format和metric作为分组键、以value_actual为值的透视表的前5行的前4列为：',musicdataCross.iloc[:5,:4])"
   ]
  },
  {
   "cell_type": "code",
   "execution_count": null,
   "metadata": {},
   "outputs": [],
   "source": []
  }
 ],
 "metadata": {
  "kernelspec": {
   "display_name": "Python 3",
   "language": "python",
   "name": "python3"
  },
  "language_info": {
   "codemirror_mode": {
    "name": "ipython",
    "version": 3
   },
   "file_extension": ".py",
   "mimetype": "text/x-python",
   "name": "python",
   "nbconvert_exporter": "python",
   "pygments_lexer": "ipython3",
   "version": "3.8.3"
  }
 },
 "nbformat": 4,
 "nbformat_minor": 4
}
